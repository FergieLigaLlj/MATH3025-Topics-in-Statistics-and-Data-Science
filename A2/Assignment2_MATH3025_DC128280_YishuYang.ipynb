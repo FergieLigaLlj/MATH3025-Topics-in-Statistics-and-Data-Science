{
 "cells": [
  {
   "cell_type": "markdown",
   "metadata": {},
   "source": [
    "f(z;lamda)=lamda*e^(-lamda*x),z>=0 ; 0, z<0\n",
    "\n",
    "F(z;lamda)=1-e^(-lamda*z),z>=0 ; 0, z<0\n",
    "\n",
    "F^-1(z) = -1/lamda * log(1-z), 0=<z<1\n",
    "\n",
    "F^-1(U) = -1/lamda * log(1-U), 0=<U<1\n",
    "\n",
    "Exp(lamda) ~ -1/lamda * log(U)\n"
   ]
  },
  {
   "cell_type": "code",
   "execution_count": 1,
   "metadata": {},
   "outputs": [],
   "source": [
    "import numpy as np"
   ]
  },
  {
   "cell_type": "code",
   "execution_count": 2,
   "metadata": {},
   "outputs": [
    {
     "name": "stdout",
     "output_type": "stream",
     "text": [
      "Please enter the lamda you want to sample for Exp(lamda), z shouldn't be 1 and larger than 0: \n"
     ]
    }
   ],
   "source": [
    "print(\"Please enter the lamda you want to sample for Exp(lamda), z shouldn't be 1 and larger than 0: \")\n",
    "lamda = input(\"\")"
   ]
  },
  {
   "cell_type": "code",
   "execution_count": 3,
   "metadata": {},
   "outputs": [
    {
     "name": "stdout",
     "output_type": "stream",
     "text": [
      "The chosen lamda is 4\n",
      "The randomly generated uniform quantity is: 0.22796476485088724\n",
      "The randomly generated quantity is 0.3696410505244849\n"
     ]
    }
   ],
   "source": [
    "print(\"The chosen lamda is\",lamda)\n",
    "### Now we sample a random variable from the U([0,1]), it should be noted that U = 1 is not favoured\n",
    "U = np.random.uniform(0,1)\n",
    "print(\"The randomly generated uniform quantity is:\",U)\n",
    "Z = (-np.log(U))/float(lamda)\n",
    "print(\"The randomly generated quantity is\",Z)"
   ]
  }
 ],
 "metadata": {
  "kernelspec": {
   "display_name": "Python 3",
   "language": "python",
   "name": "python3"
  },
  "language_info": {
   "codemirror_mode": {
    "name": "ipython",
    "version": 3
   },
   "file_extension": ".py",
   "mimetype": "text/x-python",
   "name": "python",
   "nbconvert_exporter": "python",
   "pygments_lexer": "ipython3",
   "version": "3.11.9"
  }
 },
 "nbformat": 4,
 "nbformat_minor": 2
}
