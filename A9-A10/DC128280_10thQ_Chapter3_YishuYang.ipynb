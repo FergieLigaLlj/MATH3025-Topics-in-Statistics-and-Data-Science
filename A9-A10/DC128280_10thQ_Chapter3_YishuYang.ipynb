{
 "cells": [
  {
   "cell_type": "code",
   "execution_count": 1,
   "metadata": {},
   "outputs": [],
   "source": [
    "import numpy as np"
   ]
  },
  {
   "cell_type": "code",
   "execution_count": 2,
   "metadata": {},
   "outputs": [
    {
     "name": "stdout",
     "output_type": "stream",
     "text": [
      "[0.52491059 0.60017013 0.6218027  ... 0.69777195 0.54351286 0.7436412 ]\n"
     ]
    }
   ],
   "source": [
    "from random import seed\n",
    "seed(39)\n",
    "samples = np.random.uniform(0,1,10000)\n",
    "pro = ((2+samples)**125)*((1-samples)**38)*(samples**34)\n",
    "pro = pro/(sum(pro))\n",
    "resampling = np.random.choice(samples,size=10000,p=pro)\n",
    "print(resampling)"
   ]
  }
 ],
 "metadata": {
  "kernelspec": {
   "display_name": "Python 3",
   "language": "python",
   "name": "python3"
  },
  "language_info": {
   "codemirror_mode": {
    "name": "ipython",
    "version": 3
   },
   "file_extension": ".py",
   "mimetype": "text/x-python",
   "name": "python",
   "nbconvert_exporter": "python",
   "pygments_lexer": "ipython3",
   "version": "3.11.9"
  }
 },
 "nbformat": 4,
 "nbformat_minor": 2
}
